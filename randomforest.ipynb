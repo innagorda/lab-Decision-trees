{
  "nbformat": 4,
  "nbformat_minor": 0,
  "metadata": {
    "anaconda-cloud": {},
    "kernelspec": {
      "display_name": "Python 3",
      "language": "python",
      "name": "python3"
    },
    "language_info": {
      "codemirror_mode": {
        "name": "ipython",
        "version": 3
      },
      "file_extension": ".py",
      "mimetype": "text/x-python",
      "name": "python",
      "nbconvert_exporter": "python",
      "pygments_lexer": "ipython3",
      "version": "3.6.1"
    },
    "colab": {
      "name": "randomforest.ipynb",
      "provenance": []
    }
  },
  "cells": [
    {
      "cell_type": "markdown",
      "metadata": {
        "id": "G_Gr6SciJ_k2"
      },
      "source": [
        "# <center> Лабораторная работа\n",
        "## <center> Случайный лес в задаче кредитного скоринга"
      ]
    },
    {
      "cell_type": "markdown",
      "metadata": {
        "id": "HMMJko7mJ_k2"
      },
      "source": [
        "#### Данные представлены следующим образом:\n",
        "\n",
        "##### Прогнозируемая  переменная\n",
        "* SeriousDlqin2yrs\t     ----Человек не выплатил данный кредит в течение 90 дней; возможные значения  1/0 \n",
        "\n",
        "##### Независимые признаки\n",
        "* age\t                         ---- Возраст заёмщика кредитных средств; тип - integer\n",
        "* NumberOfTime30-59DaysPastDueNotWorse\t----Количество раз, когда человек имел просрочку выплаты других кредитов более 30-59 дней, но не больше в течение последних двух лет; тип -\tinteger\n",
        "* DebtRatio ----\tЕжемесячный отчисления на задолжености(кредиты,алименты и т.д.)  / совокупный месячный доход \tpercentage; тип -\treal\n",
        "* MonthlyIncome\t----Месячный доход в долларах; тип -\treal\n",
        "* NumberOfTimes90DaysLate ----Количество раз, когда человек имел просрочку выплаты других кредитов более 90 дней; тип -\tinteger\n",
        "* NumberOfTime60-89DaysPastDueNotWorse----\tКоличество раз, когда человек имел просрочку выплаты других кредитов более 60-89 дней, но не больше в течение последних двух лет; ; тип -\tinteger\n",
        "* NumberOfDependents ----Число человек в семье кредитозаёмщика; тип -\tinteger"
      ]
    },
    {
      "cell_type": "code",
      "metadata": {
        "id": "d4fb0A2vJ_k2"
      },
      "source": [
        "%matplotlib inline\n",
        "import matplotlib.pyplot as plt\n",
        "import seaborn as sns\n",
        "# отключим предупреждения Anaconda\n",
        "import warnings\n",
        "warnings.filterwarnings('ignore')\n",
        "import pandas as pd\n",
        "import numpy as np"
      ],
      "execution_count": 1,
      "outputs": []
    },
    {
      "cell_type": "code",
      "metadata": {
        "id": "sSA1X6tqJ_k3"
      },
      "source": [
        "## Сделаем функцию, которая будет заменять NaN значения на медиану в каждом столбце таблицы \n",
        "def delete_nan(table):\n",
        "    for col in table.columns:\n",
        "        table[col]= table[col].fillna(table[col].median())\n",
        "    return table   "
      ],
      "execution_count": 2,
      "outputs": []
    },
    {
      "cell_type": "code",
      "metadata": {
        "colab": {
          "base_uri": "https://localhost:8080/",
          "height": 204
        },
        "id": "K04rQdXCJ_k3",
        "outputId": "7d15dc87-04b4-4275-ce3d-bb39418c76ab"
      },
      "source": [
        "## Считываем данные\n",
        "data = pd.read_csv('https://github.com/innagorda/lab-Decision-trees/raw/master/credit_scoring_sample.csv', sep =';') \n",
        "data.head()"
      ],
      "execution_count": 4,
      "outputs": [
        {
          "output_type": "execute_result",
          "data": {
            "text/html": [
              "<div>\n",
              "<style scoped>\n",
              "    .dataframe tbody tr th:only-of-type {\n",
              "        vertical-align: middle;\n",
              "    }\n",
              "\n",
              "    .dataframe tbody tr th {\n",
              "        vertical-align: top;\n",
              "    }\n",
              "\n",
              "    .dataframe thead th {\n",
              "        text-align: right;\n",
              "    }\n",
              "</style>\n",
              "<table border=\"1\" class=\"dataframe\">\n",
              "  <thead>\n",
              "    <tr style=\"text-align: right;\">\n",
              "      <th></th>\n",
              "      <th>SeriousDlqin2yrs</th>\n",
              "      <th>age</th>\n",
              "      <th>NumberOfTime30-59DaysPastDueNotWorse</th>\n",
              "      <th>DebtRatio</th>\n",
              "      <th>NumberOfTimes90DaysLate</th>\n",
              "      <th>NumberOfTime60-89DaysPastDueNotWorse</th>\n",
              "      <th>MonthlyIncome</th>\n",
              "      <th>NumberOfDependents</th>\n",
              "    </tr>\n",
              "  </thead>\n",
              "  <tbody>\n",
              "    <tr>\n",
              "      <th>0</th>\n",
              "      <td>0</td>\n",
              "      <td>64</td>\n",
              "      <td>0</td>\n",
              "      <td>0.249908</td>\n",
              "      <td>0</td>\n",
              "      <td>0</td>\n",
              "      <td>8158.0</td>\n",
              "      <td>0.0</td>\n",
              "    </tr>\n",
              "    <tr>\n",
              "      <th>1</th>\n",
              "      <td>0</td>\n",
              "      <td>58</td>\n",
              "      <td>0</td>\n",
              "      <td>3870.000000</td>\n",
              "      <td>0</td>\n",
              "      <td>0</td>\n",
              "      <td>NaN</td>\n",
              "      <td>0.0</td>\n",
              "    </tr>\n",
              "    <tr>\n",
              "      <th>2</th>\n",
              "      <td>0</td>\n",
              "      <td>41</td>\n",
              "      <td>0</td>\n",
              "      <td>0.456127</td>\n",
              "      <td>0</td>\n",
              "      <td>0</td>\n",
              "      <td>6666.0</td>\n",
              "      <td>0.0</td>\n",
              "    </tr>\n",
              "    <tr>\n",
              "      <th>3</th>\n",
              "      <td>0</td>\n",
              "      <td>43</td>\n",
              "      <td>0</td>\n",
              "      <td>0.000190</td>\n",
              "      <td>0</td>\n",
              "      <td>0</td>\n",
              "      <td>10500.0</td>\n",
              "      <td>2.0</td>\n",
              "    </tr>\n",
              "    <tr>\n",
              "      <th>4</th>\n",
              "      <td>1</td>\n",
              "      <td>49</td>\n",
              "      <td>0</td>\n",
              "      <td>0.271820</td>\n",
              "      <td>0</td>\n",
              "      <td>0</td>\n",
              "      <td>400.0</td>\n",
              "      <td>0.0</td>\n",
              "    </tr>\n",
              "  </tbody>\n",
              "</table>\n",
              "</div>"
            ],
            "text/plain": [
              "   SeriousDlqin2yrs  age  ...  MonthlyIncome  NumberOfDependents\n",
              "0                 0   64  ...         8158.0                 0.0\n",
              "1                 0   58  ...            NaN                 0.0\n",
              "2                 0   41  ...         6666.0                 0.0\n",
              "3                 0   43  ...        10500.0                 2.0\n",
              "4                 1   49  ...          400.0                 0.0\n",
              "\n",
              "[5 rows x 8 columns]"
            ]
          },
          "metadata": {
            "tags": []
          },
          "execution_count": 4
        }
      ]
    },
    {
      "cell_type": "code",
      "metadata": {
        "colab": {
          "base_uri": "https://localhost:8080/"
        },
        "id": "miB4YG3oJ_k3",
        "outputId": "712b5e6d-caac-49ec-8050-5f7cb5604e8c"
      },
      "source": [
        "## Рассмотрим типы считанных данных\n",
        "data.dtypes"
      ],
      "execution_count": 5,
      "outputs": [
        {
          "output_type": "execute_result",
          "data": {
            "text/plain": [
              "SeriousDlqin2yrs                          int64\n",
              "age                                       int64\n",
              "NumberOfTime30-59DaysPastDueNotWorse      int64\n",
              "DebtRatio                               float64\n",
              "NumberOfTimes90DaysLate                   int64\n",
              "NumberOfTime60-89DaysPastDueNotWorse      int64\n",
              "MonthlyIncome                           float64\n",
              "NumberOfDependents                      float64\n",
              "dtype: object"
            ]
          },
          "metadata": {
            "tags": []
          },
          "execution_count": 5
        }
      ]
    },
    {
      "cell_type": "code",
      "metadata": {
        "colab": {
          "base_uri": "https://localhost:8080/",
          "height": 364
        },
        "id": "mQvd5lTXJ_k3",
        "outputId": "6e9b48aa-db16-4cfd-8adc-b23f6a24b6bd"
      },
      "source": [
        "## Посмотрим на распределение классов в зависимой переменной\n",
        "\n",
        "ax =data['SeriousDlqin2yrs'].hist(orientation='horizontal', color='red')\n",
        "ax.set_xlabel(\"number_of_observations\")\n",
        "ax.set_ylabel(\"unique_value\")\n",
        "ax.set_title(\"Target distribution\")\n",
        "\n",
        "print('Distribution of target')\n",
        "data['SeriousDlqin2yrs'].value_counts()/data.shape[0]"
      ],
      "execution_count": 6,
      "outputs": [
        {
          "output_type": "stream",
          "text": [
            "Distribution of target\n"
          ],
          "name": "stdout"
        },
        {
          "output_type": "execute_result",
          "data": {
            "text/plain": [
              "0    0.777511\n",
              "1    0.222489\n",
              "Name: SeriousDlqin2yrs, dtype: float64"
            ]
          },
          "metadata": {
            "tags": []
          },
          "execution_count": 6
        },
        {
          "output_type": "display_data",
          "data": {
            "image/png": "[encoded data removed]",
            "text/plain": [
              "<Figure size 432x288 with 1 Axes>"
            ]
          },
          "metadata": {
            "tags": [],
            "needs_background": "light"
          }
        }
      ]
    },
    {
      "cell_type": "code",
      "metadata": {
        "colab": {
          "base_uri": "https://localhost:8080/"
        },
        "id": "b4dyqCQkJ_k4",
        "outputId": "d13c3f8a-db62-4723-e55f-ae242f69e7df"
      },
      "source": [
        "## Выберем названия всех признаков из таблицы, кроме прогнозируемого\n",
        "\n",
        "independent_columns_names = data.columns.values\n",
        "independent_columns_names = [x for x in data if x != 'SeriousDlqin2yrs']\n",
        "independent_columns_names\n"
      ],
      "execution_count": 7,
      "outputs": [
        {
          "output_type": "execute_result",
          "data": {
            "text/plain": [
              "['age',\n",
              " 'NumberOfTime30-59DaysPastDueNotWorse',\n",
              " 'DebtRatio',\n",
              " 'NumberOfTimes90DaysLate',\n",
              " 'NumberOfTime60-89DaysPastDueNotWorse',\n",
              " 'MonthlyIncome',\n",
              " 'NumberOfDependents']"
            ]
          },
          "metadata": {
            "tags": []
          },
          "execution_count": 7
        }
      ]
    },
    {
      "cell_type": "code",
      "metadata": {
        "id": "94yLrS8MJ_k4"
      },
      "source": [
        "## Применяем функцию, заменяющую все NaN значения на медианное значение соответствующего столбца\n",
        "table =delete_nan(data)\n"
      ],
      "execution_count": 8,
      "outputs": []
    },
    {
      "cell_type": "code",
      "metadata": {
        "id": "vM1GQfu5J_k4"
      },
      "source": [
        "## Разделяем таргет и признаки \n",
        "X =table[independent_columns_names]\n",
        "y = table['SeriousDlqin2yrs']\n"
      ],
      "execution_count": 9,
      "outputs": []
    },
    {
      "cell_type": "markdown",
      "metadata": {
        "id": "SbG4xDTlJ_k4"
      },
      "source": [
        "# Бутстрэп"
      ]
    },
    {
      "cell_type": "markdown",
      "metadata": {
        "id": "ui7mfHDYJ_k4"
      },
      "source": [
        "В следующей части кода рассчитывается интервальная оценка среднего возраста (age) для клиентов, которые просрочили выплату кредита, с 90% \"уверенностью\". "
      ]
    },
    {
      "cell_type": "code",
      "metadata": {
        "colab": {
          "base_uri": "https://localhost:8080/"
        },
        "id": "_QDoMK6BJ_k4",
        "outputId": "20a3dea4-f810-4046-e70b-9d55471be442"
      },
      "source": [
        "def get_bootstrap_samples(data, n_samples):\n",
        "    # функция для генерации подвыборок с помощью бутстрэпа\n",
        "    indices = np.random.randint(0, len(data), (n_samples, len(data)))\n",
        "    samples = data[indices]\n",
        "    return samples\n",
        "def stat_intervals(stat, alpha):\n",
        "    # функция для интервальной оценки\n",
        "    boundaries = np.percentile(stat, [100 * alpha / 2., 100 * (1 - alpha / 2.)])\n",
        "    return boundaries\n",
        "\n",
        "# сохранение в отдельные numpy массивы данных по клиентам\n",
        "bum_age = data[data['SeriousDlqin2yrs'] == 1]['age'].values\n",
        "\n",
        "# ставим seed для воспроизводимости результатов\n",
        "np.random.seed(0)\n",
        "\n",
        "# генерируем выборки с помощью бутстрэра и сразу считаем по каждой из них среднее\n",
        "bum_mean_scores = [np.mean(sample) \n",
        "                       for sample in get_bootstrap_samples(bum_age, 1000)]\n",
        "\n",
        "#  выводим интервальную оценку среднего\n",
        "print(\"Bums' ages:  mean interval\",  stat_intervals(bum_mean_scores, 0.1))"
      ],
      "execution_count": 10,
      "outputs": [
        {
          "output_type": "stream",
          "text": [
            "Bums' ages:  mean interval [45.71379414 46.12700479]\n"
          ],
          "name": "stdout"
        }
      ]
    },
    {
      "cell_type": "markdown",
      "metadata": {
        "id": "VjH-RGtIP5Q3"
      },
      "source": [
        "Одной из важных метрик качества модели является значение площади под ROC-кривой. Значение ROC-AUC лежит от 0 до 1. Чем ближе начение метрики ROC-AUC к 1, тем качественнее происходит классификация моделью."
      ]
    },
    {
      "cell_type": "code",
      "metadata": {
        "id": "yolaSTGRP2QO"
      },
      "source": [
        "from sklearn.model_selection import GridSearchCV, StratifiedKFold\n",
        "\n",
        "## Для того, чтобы подобрать коэффициент регуляризации, попробуем для каждого его возможного значения посмотреть \n",
        "## значения roc-auc на стрэтифайд кросс-валидации из 5 фолдов с помощью функции StratifiedKFold\n",
        "\n",
        "skf = StratifiedKFold(n_splits=5, shuffle=True, random_state=5)"
      ],
      "execution_count": 11,
      "outputs": []
    },
    {
      "cell_type": "markdown",
      "metadata": {
        "id": "ILKNlQisJ_k4"
      },
      "source": [
        "# Случайный лес"
      ]
    },
    {
      "cell_type": "code",
      "metadata": {
        "id": "e4OO8C2ZJ_k4"
      },
      "source": [
        "from sklearn.ensemble import RandomForestClassifier\n",
        "\n",
        "# Инициализируем случайный лес с 100 деревьями и сбалансированными классами \n",
        "rf = RandomForestClassifier(n_estimators=100, n_jobs=-1, random_state=42, oob_score=True, class_weight='balanced')\n",
        "\n",
        "## Будем искать лучшие параметры среди следующего набора\n",
        "parameters = {'max_features': [1, 2, 4], 'min_samples_leaf': [3, 5, 7, 9], 'max_depth': [5,10,15]}"
      ],
      "execution_count": 13,
      "outputs": []
    },
    {
      "cell_type": "markdown",
      "metadata": {
        "id": "5qQGMuhsJ_k4"
      },
      "source": [
        "Используем для подбора параметров модели случайного леса **GridSearchCV** с параметрами:\n",
        "\n",
        "*   **estimator**: **estimator object** (проинициализированный ранее случайнный лес)\n",
        "*   **cv**: **int, cross-validation generator or an iterable, default=None** Определяет стратегию разделения перекрестной проверки. (проинициализированная ранее стрэтифайд k-fold валидация)\n",
        "*   **param_grid: dict or list of dictionaries**. Словарь с именами параметров в качестве ключей и списками настроек параметров, которые можно попробовать в качестве значений. (параметры из определенного выше набора)\n",
        "*   **n_jobs: int, default=None** Количество потоков для параллельного выполнения. Параметр -1 означает, что нужно использовать максимальное возможное количество потоков.\n",
        "*   **scoring: str, callable, list/tuple or dict, default=None** Одна строковая переменная или вызываемая функция для оценки прогнозов в наборе тестов. В нашем случае это 'roc_auc'\n",
        "\n",
        "Обучаем с помощью **fit** на наборе таргетов и признаков и отображаем лучшие результаты. Обучение может занимать до 10 минут\n",
        "\n",
        "\n",
        "\n",
        "\n",
        "\n",
        "\n"
      ]
    },
    {
      "cell_type": "code",
      "metadata": {
        "colab": {
          "base_uri": "https://localhost:8080/"
        },
        "id": "MDYb_vYzJ_k4",
        "outputId": "81b70706-1f7a-4c30-dd19-9bc7605993fc"
      },
      "source": [
        "%%time\n",
        "### Ваш код должен быть здесь ###\n",
        "print(gsc.best_score_, gsc.best_params_)"
      ],
      "execution_count": 14,
      "outputs": [
        {
          "output_type": "stream",
          "text": [
            "0.8357174834725474 {'max_depth': 10, 'max_features': 4, 'min_samples_leaf': 9}\n",
            "CPU times: user 9.65 s, sys: 261 ms, total: 9.91 s\n",
            "Wall time: 8min 3s\n"
          ],
          "name": "stdout"
        }
      ]
    },
    {
      "cell_type": "markdown",
      "metadata": {
        "id": "G8q6-iLRJ_k4"
      },
      "source": [
        "**Определите, какой признак имеет самое слабое влияние**\n",
        "\n",
        "Все признаки были ранее сохранены в independent_columns_names. Влияние признаков классификатора можно узнать с помощью свойства **feature_importances_**"
      ]
    },
    {
      "cell_type": "code",
      "metadata": {
        "id": "0vzjCMYyJ_k4"
      },
      "source": [
        "clf = RandomForestClassifier(n_estimators=100, n_jobs=-1, random_state=42, oob_score=True, class_weight='balanced', ### параметры, подобранные с помощью GridSearchCV ###)\n",
        "### Обучаем с помощью **fit** на наборе таргетов и признаков ###\n",
        "### Ваш код должен быть здесь ###"
      ],
      "execution_count": null,
      "outputs": []
    },
    {
      "cell_type": "markdown",
      "metadata": {
        "id": "PyQqGjPmJ_k4"
      },
      "source": [
        "# Бэггинг"
      ]
    },
    {
      "cell_type": "code",
      "metadata": {
        "id": "GQhs0KD9J_k4"
      },
      "source": [
        "from sklearn.ensemble import BaggingClassifier\n",
        "from sklearn.model_selection import RandomizedSearchCV\n",
        "parameters = {'max_features': [2, 3, 4], 'max_samples': [0.5, 0.7, 0.9], \n",
        "              \"base_estimator__C\": [0.0001, 0.001, 0.01, 1, 10, 100]}"
      ],
      "execution_count": 15,
      "outputs": []
    },
    {
      "cell_type": "markdown",
      "metadata": {
        "id": "Ad0Q2SrOJ_k4"
      },
      "source": [
        "**Следующая задача - обучение бэггинг классификатора (random_state=42).** В качестве базовых классификаторов возьмите 100 логистических регрессий и на этот раз используйте не GridSearchCV, а RandomizedSearchCV. Так как перебирать все 54 варианта комбинаций долго, то поставьте максимальное число итераций 20 для RandomizedSearchCV. Так же не забудьте передать параметр валидации cv и `random_state=1`. Какая лучшая точность получилась?"
      ]
    },
    {
      "cell_type": "code",
      "metadata": {
        "id": "6LXH7EmQJ_k4"
      },
      "source": [
        "%%time\n",
        "### Ваш код должен быть здесь ###\n",
        "print(rsb.best_score_, rsb.best_params_)"
      ],
      "execution_count": null,
      "outputs": []
    },
    {
      "cell_type": "markdown",
      "metadata": {
        "id": "PSQ6tLyOJ_k4"
      },
      "source": [
        "**Дайте интерпретацию лучших параметров для бэггинга. Почему именно такие значения оказались лучшими?**\n",
        "\n",
        "- для бэггинга важно использовать как можно меньше признаков\n",
        "- бэггинг лучше работает на небольших выборках\n",
        "- меньше корреляция между одиночными моделями\n",
        "- чем больше признаков, тем меньше теряется информации"
      ]
    },
    {
      "cell_type": "markdown",
      "metadata": {
        "id": "N39jAVlydOL1"
      },
      "source": [
        "<center>\n",
        "##Открытый курс по машинному обучению\n",
        "</center>\n",
        "Авторы оригинального материала: Data Science интерн Ciklum, студент магистерской программы CSDS UCU Виталий Радченко, аналитик Вымпелком Саян Омаров"
      ]
    }
  ]
}